{
 "cells": [
  {
   "cell_type": "code",
   "execution_count": 26,
   "id": "96f56155",
   "metadata": {},
   "outputs": [
    {
     "name": "stdout",
     "output_type": "stream",
     "text": [
      "0\n",
      "2\n",
      "4\n"
     ]
    }
   ],
   "source": [
    "# Create a Python notebook and answer the following task below.\n",
    "# Make sure to submit only the link of your notebook.\n",
    "# Tasks:\n",
    "# Ask the user for a number, print only the even numbers in the range from 0 until the user specified number.\n",
    "\n",
    "\n",
    "\n",
    "try:\n",
    "    number = int(input(\"Enter your number\"))\n",
    "    if number < 0:\n",
    "        print(\"Only Input Positive Numbers!\")\n",
    "    else:\n",
    "        for num in range(number+1):\n",
    "            if num%2 == 0:\n",
    "                print(num)\n",
    "except ValueError:\n",
    "    print(\"Only Input Valid Numbers!\")"
   ]
  },
  {
   "cell_type": "code",
   "execution_count": 27,
   "id": "424e9672",
   "metadata": {},
   "outputs": [
    {
     "name": "stdout",
     "output_type": "stream",
     "text": [
      "1\n",
      "2\n",
      "4\n",
      "5\n",
      "10\n",
      "20\n"
     ]
    }
   ],
   "source": [
    "\n",
    "#Ask the user input value n, then if a number is a valid divisor of n, print the number. E.g. If input value is 5, 5 is divisible by what numbers?\n",
    "try:\n",
    "    number = int(input(\"enter value of n\"))\n",
    "    if number < 0 or number == 0:\n",
    "        print(\"Only Input Numbers Greater than 0!\")\n",
    "    else:\n",
    "        for num in range(1,number+1):\n",
    "            if number%num == 0:\n",
    "                print(num)\n",
    "except ValueError:\n",
    "    print(\"Only Input Valid Numbers!\")\n",
    "\n"
   ]
  },
  {
   "cell_type": "code",
   "execution_count": 28,
   "id": "d8f6450c",
   "metadata": {},
   "outputs": [
    {
     "name": "stdout",
     "output_type": "stream",
     "text": [
      "Factorial of 5 is 120\n"
     ]
    }
   ],
   "source": [
    "# Write the factorial of a number (user defined value) with the different looping structures explored in the class.\n",
    "\n",
    "#using for loop\n",
    "try:\n",
    "    number = int(input(\"Enter value of n: \"))\n",
    "    if number >= 0:\n",
    "        factorial = 1\n",
    "        for num in range(number, 0, -1):\n",
    "            factorial *= num\n",
    "        print(f\"Factorial of {number} is {factorial}\")\n",
    "    else:\n",
    "        print(\"Invalid number! Must be non-negative.\")\n",
    "except ValueError:\n",
    "    print(\"Only input valid numbers!\")\n"
   ]
  },
  {
   "cell_type": "code",
   "execution_count": 29,
   "id": "ab0c6cb8",
   "metadata": {},
   "outputs": [
    {
     "name": "stdout",
     "output_type": "stream",
     "text": [
      "Factorial of 5 is 120\n"
     ]
    }
   ],
   "source": [
    "# using while loop\n",
    "try:\n",
    "    number = int(input(\"Enter value of n: \"))\n",
    "    if number >= 0:\n",
    "        factorial = 1\n",
    "        original_number = number \n",
    "        while number > 1:\n",
    "            factorial *= number\n",
    "            number -= 1\n",
    "        print(f\"Factorial of {original_number} is {factorial}\")\n",
    "    else:\n",
    "        print(\"Invalid number! Must be non-negative.\")\n",
    "except ValueError:\n",
    "    print(\"Only input valid numbers!\")\n"
   ]
  },
  {
   "cell_type": "code",
   "execution_count": null,
   "id": "6f1be207",
   "metadata": {},
   "outputs": [],
   "source": []
  }
 ],
 "metadata": {
  "kernelspec": {
   "display_name": "base",
   "language": "python",
   "name": "python3"
  },
  "language_info": {
   "codemirror_mode": {
    "name": "ipython",
    "version": 3
   },
   "file_extension": ".py",
   "mimetype": "text/x-python",
   "name": "python",
   "nbconvert_exporter": "python",
   "pygments_lexer": "ipython3",
   "version": "3.13.5"
  }
 },
 "nbformat": 4,
 "nbformat_minor": 5
}
